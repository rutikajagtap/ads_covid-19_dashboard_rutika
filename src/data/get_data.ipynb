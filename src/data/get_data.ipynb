{
 "cells": [
  {
   "cell_type": "code",
   "execution_count": 1,
   "metadata": {},
   "outputs": [
    {
     "name": "stdout",
     "output_type": "stream",
     "text": [
      "Error : b'From https://github.com/CSSEGISandData/COVID-19\\n   0a48f919..fc4b7ccb  web-data   -> origin/web-data\\n'\n",
      "Out :b'Already up to date.\\n'\n",
      "Number of regions rows: 16\n"
     ]
    }
   ],
   "source": [
    "import pandas as pd\n",
    "import numpy as np\n",
    "\n",
    "import os\n",
    "import subprocess\n",
    "\n",
    "import requests\n",
    "import json\n",
    "\n",
    "from datetime import datetime\n",
    "\n",
    "\n",
    "def get_johns_hopkins():\n",
    "    \n",
    "    git_pull = subprocess.Popen('...\\\\usr\\\\bin\\\\git pull',\n",
    "                           cwd = os.path.dirname('...\\\\data\\\\raw\\\\COVID-19\\\\'),\n",
    "                           shell = True,\n",
    "                           stdout = subprocess.PIPE,\n",
    "                           stderr = subprocess.PIPE)\n",
    "    (out, error) = git_pull.communicate()\n",
    "\n",
    "    print(\"Error : \" + str(error))\n",
    "    print(\"Out :\" + str(out))\n",
    "    \n",
    "    \n",
    "    \n",
    "def get_current_data_germany():\n",
    "    data=requests.get('https://services7.arcgis.com/mOBPykOjAyBO2ZKk/arcgis/rest/services/Coronaf%C3%A4lle_in_den_Bundesl%C3%A4ndern/FeatureServer/0/query?where=1%3D1&outFields=*&outSR=4326&f=json')\n",
    "    \n",
    "    json_object=json.loads(data.content)\n",
    "    full_list=[]\n",
    "    for pos,each_dict in enumerate (json_object['features'][:]):\n",
    "        full_list.append(each_dict['attributes'])\n",
    "                         \n",
    "    pd_full_list = pd.DataFrame(full_list)\n",
    "    pd_full_list.to_csv('...\\\\data\\\\raw\\\\NPGEO\\\\GER_state_data.csv', sep=';')\n",
    "    print('Number of regions rows: ' + str(pd_full_list.shape[0]))   \n",
    "    \n",
    "    \n",
    "    \n",
    "if __name__ == '__main__':\n",
    "    get_johns_hopkins()\n",
    "    get_current_data_germany()"
   ]
  },
  {
   "cell_type": "code",
   "execution_count": null,
   "metadata": {},
   "outputs": [],
   "source": []
  }
 ],
 "metadata": {
  "kernelspec": {
   "display_name": "Python 3",
   "language": "python",
   "name": "python3"
  },
  "language_info": {
   "codemirror_mode": {
    "name": "ipython",
    "version": 3
   },
   "file_extension": ".py",
   "mimetype": "text/x-python",
   "name": "python",
   "nbconvert_exporter": "python",
   "pygments_lexer": "ipython3",
   "version": "3.7.1"
  }
 },
 "nbformat": 4,
 "nbformat_minor": 4
}
