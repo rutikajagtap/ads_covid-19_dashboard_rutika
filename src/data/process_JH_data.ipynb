{
 "cells": [
  {
   "cell_type": "code",
   "execution_count": 1,
   "metadata": {},
   "outputs": [
    {
     "name": "stdout",
     "output_type": "stream",
     "text": [
      "Number of rows stored: 56924\n"
     ]
    }
   ],
   "source": [
    "import pandas as pd\n",
    "import numpy as np\n",
    "\n",
    "from datetime import datetime\n",
    "\n",
    "\n",
    "def store_relational_JH_data():\n",
    "    data_path = '...\\\\data\\\\raw\\\\COVID-19\\\\csse_covid_19_data\\\\csse_covid_19_time_series\\\\time_series_covid19_confirmed_global.csv'\n",
    "    pd_raw = pd.read_csv(data_path)\n",
    "    \n",
    "    pd_data_base=pd_raw.rename(columns={'Country/Region':'country', 'Province/State':'state'})\n",
    "    pd_data_base['state']=pd_data_base['state'].fillna('no')\n",
    "    pd_data_base=pd_data_base.drop(['Lat','Long'],axis=1)\n",
    "    \n",
    "    pd_relational_model=pd_data_base.set_index(['state','country']).T.stack(level=[0,1]).reset_index().rename(columns={'level_0':'date', 0:'confirmed'},)\n",
    "    \n",
    "    pd_relational_model['date']=pd_relational_model.date.astype('datetime64[ns]')\n",
    "    \n",
    "    pd_relational_model.to_csv('...\\\\data\\\\processed\\\\COVID_relational_confirmed.csv' , sep=';', index=False)\n",
    "    print('Number of rows stored: ' + str(pd_relational_model.shape[0]))\n",
    "    \n",
    "\n",
    "\n",
    "if __name__=='__main__':\n",
    "    store_relational_JH_data()"
   ]
  },
  {
   "cell_type": "code",
   "execution_count": null,
   "metadata": {},
   "outputs": [],
   "source": []
  }
 ],
 "metadata": {
  "kernelspec": {
   "display_name": "Python 3",
   "language": "python",
   "name": "python3"
  },
  "language_info": {
   "codemirror_mode": {
    "name": "ipython",
    "version": 3
   },
   "file_extension": ".py",
   "mimetype": "text/x-python",
   "name": "python",
   "nbconvert_exporter": "python",
   "pygments_lexer": "ipython3",
   "version": "3.7.1"
  }
 },
 "nbformat": 4,
 "nbformat_minor": 4
}
