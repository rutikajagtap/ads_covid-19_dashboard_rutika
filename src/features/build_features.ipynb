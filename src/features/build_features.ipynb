{
 "cells": [
  {
   "cell_type": "code",
   "execution_count": 1,
   "metadata": {},
   "outputs": [
    {
     "name": "stdout",
     "output_type": "stream",
     "text": [
      "The test slope is: [2.]\n"
     ]
    },
    {
     "name": "stderr",
     "output_type": "stream",
     "text": [
      "C:\\Users\\Admin\\Anaconda3\\lib\\site-packages\\scipy\\signal\\_arraytools.py:45: FutureWarning: Using a non-tuple sequence for multidimensional indexing is deprecated; use `arr[tuple(seq)]` instead of `arr[seq]`. In the future this will be interpreted as an array index, `arr[np.array(seq)]`, which will result either in an error or a different result.\n",
      "  b = a[a_slice]\n"
     ]
    },
    {
     "name": "stdout",
     "output_type": "stream",
     "text": [
      "   index       date    state       country  confirmed  confirmed_filtered  \\\n",
      "0      0 2020-01-22  Alberta        Canada        0.0                 0.0   \n",
      "1    169 2020-01-22       no  Korea, South        1.0                -4.8   \n",
      "2    170 2020-01-22       no        Kosovo        0.0                 0.0   \n",
      "3    171 2020-01-22       no        Kuwait        0.0                 0.0   \n",
      "4    172 2020-01-22       no    Kyrgyzstan        0.0                10.8   \n",
      "\n",
      "   confirmed_DR  confirmed_filtered_DR  \n",
      "0           NaN                    NaN  \n",
      "1           NaN                    NaN  \n",
      "2           NaN                    NaN  \n",
      "3           NaN                    NaN  \n",
      "4           NaN                    NaN  \n"
     ]
    }
   ],
   "source": [
    "import numpy as np\n",
    "from sklearn import linear_model\n",
    "\n",
    "reg = linear_model.LinearRegression(fit_intercept=True)\n",
    "import pandas as pd\n",
    "\n",
    "from scipy import signal\n",
    "\n",
    "\n",
    "def get_doubling_time_via_regression(in_array):\n",
    "    \n",
    "    y= np.array(in_array)\n",
    "    X= np.arange(-1,2).reshape(-1, 1)\n",
    "    \n",
    "    assert len(in_array)==3 \n",
    "    reg.fit(X,y)\n",
    "    intercept = reg.intercept_\n",
    "    slope = reg.coef_\n",
    "    \n",
    "    return intercept/slope\n",
    "\n",
    "\n",
    "\n",
    "def savgol_filter(df_input,column='confirmed',window=5):\n",
    "    window=5,\n",
    "    degree=1\n",
    "    df_result=df_input\n",
    "    \n",
    "    filter_in=df_input[column].fillna(0)\n",
    "    \n",
    "    result=signal.savgol_filter(np.array(filter_in),\n",
    "                                5,\n",
    "                                1)\n",
    "    \n",
    "    df_result[column+'_filtered']=result\n",
    "    return df_result\n",
    "\n",
    "\n",
    "\n",
    "def rolling_reg(df_input,column='confirmed'):\n",
    "    \n",
    "    days_back=3\n",
    "    result=df_input[column].rolling(\n",
    "                window=days_back,\n",
    "                min_periods=days_back).apply(get_doubling_time_via_regression, raw=False)\n",
    "    return result\n",
    "\n",
    "\n",
    "\n",
    "def calc_filtered_data(df_input,filter_on='confirmed'):\n",
    "    \n",
    "    must_contain=set(['state','country',filter_on])\n",
    "    assert must_contain.issubset(set(df_input.columns))\n",
    "    \n",
    "    pd_filtered_result=df_input[['state','country',filter_on]].groupby(['state','country']).apply(savgol_filter)\n",
    "    pd_filtered_result=pd_filtered_result.reset_index()\n",
    "    df_output=pd.merge(df_input,pd_filtered_result[['index',filter_on+'_filtered']],on=['index'],how='left')\n",
    "    \n",
    "    return df_output\n",
    "\n",
    "\n",
    "\n",
    "def calc_doubling_rate(df_input,filter_on='confirmed'):\n",
    "    \n",
    "    must_contain=set(['state','country',filter_on])\n",
    "    assert must_contain.issubset(set(df_input.columns))\n",
    "    \n",
    "    pd_DR_result=df_input.groupby(['state','country']).apply(rolling_reg,filter_on)\n",
    "    pd_DR_result=pd_DR_result.reset_index()\n",
    "    pd_DR_result=pd_DR_result.rename(columns={filter_on:filter_on + '_DR',\n",
    "                                                        'level_2':'index'})\n",
    "    \n",
    "    df_output=pd.merge(df_input,pd_DR_result[['index',filter_on+'_DR']],on=['index'],how='left')\n",
    "    \n",
    "    return df_output\n",
    "\n",
    "\n",
    "\n",
    "if __name__=='__main__':\n",
    "    test_data_reg=np.array([2,4,6])\n",
    "    result=get_doubling_time_via_regression(test_data_reg)\n",
    "    print('The test slope is: ' + str(result))\n",
    "    \n",
    "    pd_JH_data=pd.read_csv('...\\\\data\\\\processed\\\\COVID_relational_confirmed.csv' , sep=';', parse_dates=[0])\n",
    "    pd_JH_data=pd_JH_data.sort_values('date',ascending=True).reset_index().copy()\n",
    "    \n",
    "    pd_result_larg=calc_filtered_data(pd_JH_data)\n",
    "    pd_result_larg=calc_doubling_rate(pd_result_larg)\n",
    "    pd_result_larg=calc_doubling_rate(pd_result_larg,'confirmed_filtered')\n",
    "    pd_result_larg.to_csv('...\\\\data\\\\processed\\\\COVID_relational_confirmed_final.csv' , sep=';', index=False)\n",
    "    print(pd_result_larg.head())"
   ]
  },
  {
   "cell_type": "code",
   "execution_count": null,
   "metadata": {},
   "outputs": [],
   "source": []
  }
 ],
 "metadata": {
  "kernelspec": {
   "display_name": "Python 3",
   "language": "python",
   "name": "python3"
  },
  "language_info": {
   "codemirror_mode": {
    "name": "ipython",
    "version": 3
   },
   "file_extension": ".py",
   "mimetype": "text/x-python",
   "name": "python",
   "nbconvert_exporter": "python",
   "pygments_lexer": "ipython3",
   "version": "3.7.1"
  }
 },
 "nbformat": 4,
 "nbformat_minor": 2
}
